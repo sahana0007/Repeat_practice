{
  "nbformat": 4,
  "nbformat_minor": 0,
  "metadata": {
    "colab": {
      "provenance": [],
      "authorship_tag": "ABX9TyMj9y+Tpgk9QtxTAFcr86py",
      "include_colab_link": true
    },
    "kernelspec": {
      "name": "python3",
      "display_name": "Python 3"
    },
    "language_info": {
      "name": "python"
    }
  },
  "cells": [
    {
      "cell_type": "markdown",
      "metadata": {
        "id": "view-in-github",
        "colab_type": "text"
      },
      "source": [
        "<a href=\"https://colab.research.google.com/github/sahana0007/Repeat_practice/blob/main/practice_contains_Duplicate.ipynb\" target=\"_parent\"><img src=\"https://colab.research.google.com/assets/colab-badge.svg\" alt=\"Open In Colab\"/></a>"
      ]
    },
    {
      "cell_type": "code",
      "execution_count": 5,
      "metadata": {
        "colab": {
          "base_uri": "https://localhost:8080/"
        },
        "id": "5LZM9oJhCVk3",
        "outputId": "a106d9f3-e7ab-4879-8dfe-8fa17bc27f5d"
      },
      "outputs": [
        {
          "output_type": "stream",
          "name": "stdout",
          "text": [
            "True\n"
          ]
        }
      ],
      "source": [
        "from numpy import inf\n",
        "from typing import List\n",
        "\n",
        "class Solution:\n",
        "    def containsDuplicate(self, nums: List[int]) -> bool:\n",
        "        res =[]\n",
        "        for i in range(len(nums)):\n",
        "          if nums[i] in res:\n",
        "              return True\n",
        "          else:\n",
        "            res.append(nums[i])\n",
        "\n",
        "nums = [1,2,3,1]\n",
        "ob1 = Solution()\n",
        "print(ob1.containsDuplicate(nums))"
      ]
    }
  ]
}