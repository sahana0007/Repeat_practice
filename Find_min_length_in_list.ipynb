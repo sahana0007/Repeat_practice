{
  "nbformat": 4,
  "nbformat_minor": 0,
  "metadata": {
    "colab": {
      "provenance": []
    },
    "kernelspec": {
      "name": "python3",
      "display_name": "Python 3"
    },
    "language_info": {
      "name": "python"
    }
  },
  "cells": [
    {
      "cell_type": "code",
      "execution_count": 5,
      "metadata": {
        "colab": {
          "base_uri": "https://localhost:8080/"
        },
        "id": "9fahYpMq7sA0",
        "outputId": "6e2bc031-d0e3-4c42-8fc8-cc4ccf2ba095"
      },
      "outputs": [
        {
          "output_type": "stream",
          "name": "stdout",
          "text": [
            "2\n"
          ]
        }
      ],
      "source": [
        "import math\n",
        "words = ['flowers','basei','cap','gd']\n",
        "\n",
        "minlen =float('inf')\n",
        "\n",
        "for i in range(len(words)):\n",
        "  if len(words[i]) <minlen:\n",
        "    minlen =len(words[i])\n",
        "\n",
        "print(minlen)\n"
      ]
    }
  ]
}