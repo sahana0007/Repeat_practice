{
  "nbformat": 4,
  "nbformat_minor": 0,
  "metadata": {
    "colab": {
      "provenance": [],
      "authorship_tag": "ABX9TyMKboVwIClwqEmQZEryBx72",
      "include_colab_link": true
    },
    "kernelspec": {
      "name": "python3",
      "display_name": "Python 3"
    },
    "language_info": {
      "name": "python"
    }
  },
  "cells": [
    {
      "cell_type": "markdown",
      "metadata": {
        "id": "view-in-github",
        "colab_type": "text"
      },
      "source": [
        "<a href=\"https://colab.research.google.com/github/sahana0007/Repeat_practice/blob/main/reverse_string.ipynb\" target=\"_parent\"><img src=\"https://colab.research.google.com/assets/colab-badge.svg\" alt=\"Open In Colab\"/></a>"
      ]
    },
    {
      "cell_type": "code",
      "execution_count": 4,
      "metadata": {
        "colab": {
          "base_uri": "https://localhost:8080/"
        },
        "id": "nF7XErOd9q3y",
        "outputId": "66881a6a-b70d-4831-fd40-60ca1a42bac3"
      },
      "outputs": [
        {
          "output_type": "stream",
          "name": "stdout",
          "text": [
            "['o', 'l', 'l', 'e', 'h']\n"
          ]
        }
      ],
      "source": [
        "from typing import List\n",
        "\n",
        "class Solution:\n",
        "    def reverseString(self, s: List[str]) -> None:\n",
        "        \"\"\"\n",
        "        Do not return anything, modify s in-place instead.\n",
        "        \"\"\"\n",
        "        \n",
        "        left , right = 0, len(s) -1\n",
        "        \n",
        "        while (left<right):\n",
        "            s[left],s[right] = s[right], s[left]\n",
        "            left+=1\n",
        "            right-=1\n",
        "        return s\n",
        "\n",
        "s = [\"h\",\"e\",\"l\",\"l\",\"o\"]\n",
        "ob1 = Solution()\n",
        "print(ob1.reverseString(s))\n",
        "\n",
        "\n"
      ]
    }
  ]
}