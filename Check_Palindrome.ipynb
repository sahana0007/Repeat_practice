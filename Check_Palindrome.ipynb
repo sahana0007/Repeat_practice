{
  "nbformat": 4,
  "nbformat_minor": 0,
  "metadata": {
    "colab": {
      "provenance": [],
      "authorship_tag": "ABX9TyMd7Ld8i+SjAcwL/Ep6YZ28",
      "include_colab_link": true
    },
    "kernelspec": {
      "name": "python3",
      "display_name": "Python 3"
    },
    "language_info": {
      "name": "python"
    }
  },
  "cells": [
    {
      "cell_type": "markdown",
      "metadata": {
        "id": "view-in-github",
        "colab_type": "text"
      },
      "source": [
        "<a href=\"https://colab.research.google.com/github/sahana0007/Repeat_practice/blob/main/Check_Palindrome.ipynb\" target=\"_parent\"><img src=\"https://colab.research.google.com/assets/colab-badge.svg\" alt=\"Open In Colab\"/></a>"
      ]
    },
    {
      "cell_type": "code",
      "execution_count": 13,
      "metadata": {
        "colab": {
          "base_uri": "https://localhost:8080/"
        },
        "id": "KxeyUYsLFoG0",
        "outputId": "476534f9-c8fa-49f8-c876-c1aef9f24f64"
      },
      "outputs": [
        {
          "output_type": "stream",
          "name": "stdout",
          "text": [
            "True\n"
          ]
        }
      ],
      "source": [
        "class Solution:\n",
        "  def Palindrome(self, s:str)->bool:\n",
        "    def CheckPalindrome(left,right):\n",
        "      left, right =0, len(s) -1\n",
        "      while left<=right:\n",
        "        if s[left] != s[right]:\n",
        "          return False\n",
        "        else:\n",
        "          left +=1\n",
        "          right -=1\n",
        "      return True\n",
        "    return CheckPalindrome(0, len(s) - 1)\n",
        "\n",
        "\n",
        "input_list = \"abcba\"\n",
        "ob1 = Solution()\n",
        "print(ob1.Palindrome(input_list))"
      ]
    },
    {
      "cell_type": "code",
      "source": [
        "class Solution:\n",
        "  def Palindrome(self, s:str)->bool:\n",
        "    left , right = 0, len(s) -1\n",
        "\n",
        "    while(left<right):\n",
        "      s = s.lower()\n",
        "      if s[left]!= s[right]:\n",
        "        return False\n",
        "      else:      \n",
        "        left +=1\n",
        "        right -=1\n",
        "    return True\n",
        "\n",
        "\n",
        "s = \"acdf,fdcA\"\n",
        "ob1 = Solution()\n",
        "print(ob1.Palindrome(input_list))"
      ],
      "metadata": {
        "colab": {
          "base_uri": "https://localhost:8080/"
        },
        "id": "mjAuwjsa5msC",
        "outputId": "3b1ad9dc-2b89-4aa3-c369-7ff41dd07a24"
      },
      "execution_count": 16,
      "outputs": [
        {
          "output_type": "stream",
          "name": "stdout",
          "text": [
            "True\n"
          ]
        }
      ]
    }
  ]
}