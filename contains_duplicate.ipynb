{
  "nbformat": 4,
  "nbformat_minor": 0,
  "metadata": {
    "colab": {
      "provenance": [],
      "authorship_tag": "ABX9TyMrdiS6TjQnIwTRNEwnusgc",
      "include_colab_link": true
    },
    "kernelspec": {
      "name": "python3",
      "display_name": "Python 3"
    },
    "language_info": {
      "name": "python"
    }
  },
  "cells": [
    {
      "cell_type": "markdown",
      "metadata": {
        "id": "view-in-github",
        "colab_type": "text"
      },
      "source": [
        "<a href=\"https://colab.research.google.com/github/sahana0007/Repeat_practice/blob/main/contains_duplicate.ipynb\" target=\"_parent\"><img src=\"https://colab.research.google.com/assets/colab-badge.svg\" alt=\"Open In Colab\"/></a>"
      ]
    },
    {
      "cell_type": "code",
      "source": [
        "from typing import List\n",
        "\n",
        "class Solution:\n",
        "    def containsDuplicate(self, nums: List[int]) -> bool:\n",
        "        nums.sort()\n",
        "        for i in range(len(nums)-1):\n",
        "            if nums[i] == nums[i+1]:\n",
        "                return True\n",
        "        return False\n",
        "\n",
        "nums = [1,2,3,1]\n",
        "ob1 = Solution()\n",
        "print(ob1.containsDuplicate(nums))\n"
      ],
      "metadata": {
        "colab": {
          "base_uri": "https://localhost:8080/"
        },
        "id": "84nUXnerPkbf",
        "outputId": "d2413a48-0e7d-47a8-fe22-bbe3395869c9"
      },
      "execution_count": 19,
      "outputs": [
        {
          "output_type": "stream",
          "name": "stdout",
          "text": [
            "True\n"
          ]
        }
      ]
    },
    {
      "cell_type": "code",
      "source": [
        "from typing import List\n",
        "\n",
        "class Solution:\n",
        "    def containsDuplicate(self, nums: List[int]) -> bool:\n",
        "        dict ={}\n",
        "        for i in range(len(nums)):\n",
        "          if nums[i] in dict:\n",
        "            return True\n",
        "          dict[nums[i]] =1\n",
        "        return False\n",
        "\n",
        "nums = [1,2,3,1]\n",
        "ob1 = Solution()\n",
        "print(ob1.containsDuplicate(nums))\n"
      ],
      "metadata": {
        "colab": {
          "base_uri": "https://localhost:8080/"
        },
        "id": "4biR4P6zSoQC",
        "outputId": "2f1d7b07-21bd-4587-ea2f-b83da89c9e17"
      },
      "execution_count": 22,
      "outputs": [
        {
          "output_type": "stream",
          "name": "stdout",
          "text": [
            "True\n"
          ]
        }
      ]
    },
    {
      "cell_type": "code",
      "source": [
        "from typing import List\n",
        "\n",
        "class Solution:\n",
        "    def containsDuplicate(self, nums: List[int]) -> bool:\n",
        "        dict ={}\n",
        "        for i in nums:\n",
        "          if i in dict:\n",
        "            return True\n",
        "          dict[i] =1\n",
        "        return False\n",
        "\n",
        "nums = [1,2,3,1]\n",
        "ob1 = Solution()\n",
        "print(ob1.containsDuplicate(nums))\n"
      ],
      "metadata": {
        "colab": {
          "base_uri": "https://localhost:8080/"
        },
        "id": "HMPZ4s3dX6g7",
        "outputId": "506ecda3-fbc3-412d-a3ce-b2db54618305"
      },
      "execution_count": 25,
      "outputs": [
        {
          "output_type": "stream",
          "name": "stdout",
          "text": [
            "True\n"
          ]
        }
      ]
    }
  ]
}